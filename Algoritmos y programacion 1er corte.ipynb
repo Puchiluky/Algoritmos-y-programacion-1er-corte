{
  "nbformat": 4,
  "nbformat_minor": 0,
  "metadata": {
    "colab": {
      "provenance": []
    },
    "kernelspec": {
      "name": "python3",
      "display_name": "Python 3"
    },
    "language_info": {
      "name": "python"
    }
  },
  "cells": [
    {
      "cell_type": "code",
      "source": [],
      "metadata": {
        "id": "VKRlwB2S-SkY"
      },
      "execution_count": null,
      "outputs": []
    },
    {
      "cell_type": "code",
      "source": [
        "contraseña = \"Computadora\"\n",
        "contador = 0\n",
        "\n",
        "while True:\n",
        "    contraseña_input = input(\"Introduzca una Contraseña\")\n",
        "    contador+=1\n",
        "\n",
        "    if contador > 3:\n",
        "        print(\"Haz sobrepasado los intentos\")\n",
        "    elif contraseña_input == \"Computadora\":\n",
        "        print(\"Contraseña Correcta\")\n",
        "        break\n",
        "    else:\n",
        "        print(\"Contraseña incorrecta , Introduzca una contraseña correcta\")"
      ],
      "metadata": {
        "id": "Aifkm_8u-RhA",
        "colab": {
          "base_uri": "https://localhost:8080/"
        },
        "outputId": "96b03c1d-7c29-438d-a1f4-73a6b58e39e7"
      },
      "execution_count": 6,
      "outputs": [
        {
          "output_type": "stream",
          "name": "stdout",
          "text": [
            "Introduzca una ContraseñaComputadora\n",
            "Contraseña Correcta\n"
          ]
        }
      ]
    },
    {
      "cell_type": "code",
      "source": [
        "for i in range(5):\n",
        "  print(f\"Juego{i+1}:\")\n",
        "  resultado =play()\n",
        "  print(resultado)\n",
        "  print() # Separador entre juegos\n"
      ],
      "metadata": {
        "colab": {
          "base_uri": "https://localhost:8080/"
        },
        "id": "Y7EbZsNO4xB4",
        "outputId": "f630047e-4a5f-4512-99d2-5099e4263391"
      },
      "execution_count": null,
      "outputs": [
        {
          "output_type": "stream",
          "name": "stdout",
          "text": [
            "Juego1:\n",
            " ¿Qué vas a usar? 'piedra','papel','tijeras' piedra\n",
            "Es un Empate\n",
            "\n",
            "Juego2:\n",
            " ¿Qué vas a usar? 'piedra','papel','tijeras' tijeras\n",
            "¡Perdiste!\n",
            "\n",
            "Juego3:\n",
            " ¿Qué vas a usar? 'piedra','papel','tijeras' tijeras\n",
            "¡Perdiste!\n",
            "\n",
            "Juego4:\n",
            " ¿Qué vas a usar? 'piedra','papel','tijeras' piedra\n",
            "¡Perdiste!\n",
            "\n",
            "Juego5:\n",
            " ¿Qué vas a usar? 'piedra','papel','tijeras' papel\n",
            "¡Ganaste!\n",
            "\n"
          ]
        }
      ]
    },
    {
      "cell_type": "code",
      "source": [
        "# !\"#$%&()*+,-./0123456789?@ABCDEFGHIJKLMNOPQRSTUVWXYZabcdefghijklmnopqrstuvwxyz\n",
        "\n",
        "import random\n",
        "random.seed(1234)\n",
        "\n",
        "chars = '!\"#$%&()*+,-./0123456789?@QWERTYUIOPÑLKJHGFDSAZXCVBNMmnbvcxzasdfghjklñpoiuytrewq'\n",
        "\n",
        "password= ''\n",
        "\n",
        "lengthPW = int(input('Que longitud quieres para tu contraseña'))\n",
        "\n",
        "for _ in range(lengthPW):\n",
        "    password += random.choice(chars)\n",
        "\n",
        "print(password)\n",
        "\n"
      ],
      "metadata": {
        "colab": {
          "base_uri": "https://localhost:8080/"
        },
        "id": "wQhIIAM_tkwO",
        "outputId": "3bf0ad09-aa8a-4171-eafa-88ec975080ac"
      },
      "execution_count": null,
      "outputs": [
        {
          "output_type": "stream",
          "name": "stdout",
          "text": [
            "Que longitud quieres para tu contraseña8\n",
            "v0!-y%,.\n"
          ]
        }
      ]
    },
    {
      "cell_type": "code",
      "source": [],
      "metadata": {
        "id": "-GcsxFSjy2XK"
      },
      "execution_count": null,
      "outputs": []
    },
    {
      "cell_type": "code",
      "source": [
        "import math\n",
        "import random"
      ],
      "metadata": {
        "id": "2W42EsH-LSGJ"
      },
      "execution_count": null,
      "outputs": []
    },
    {
      "cell_type": "code",
      "source": [
        "import random\n",
        "for i in range(5):\n",
        "  #Elegir opcion del jugador\n",
        "  jugador = input(\"Elige pieda,papel o tijeras\").lower()\n",
        "\n",
        "def play():\n",
        "    user = input(\" ¿Qué vas a usar? 'piedra','papel','tijeras' \")\n",
        "    computer = random.choice (['piedra', 'papel', 'tijeras'])\n",
        "\n",
        "    if user == computer:\n",
        "        return 'Es un Empate'\n",
        "\n",
        "    if is_win(user, computer):\n",
        "        return '¡Ganaste!'\n",
        "    return '¡Perdiste!'\n",
        "\n",
        "def is_win(player, opponent):\n",
        "    if (player == 'piedra' and opponent == 'tijeras') or (player == 'tijeras' and opponent == 'papel') \\\n",
        "        or (player == 'papel' and opponent == 'tijeras'):\n",
        "        return True\n",
        "\n",
        "print(play())"
      ],
      "metadata": {
        "id": "1jGUYNYqLOl5",
        "colab": {
          "base_uri": "https://localhost:8080/"
        },
        "outputId": "f823263e-ad90-47d3-d33b-722c511bf090"
      },
      "execution_count": null,
      "outputs": [
        {
          "output_type": "stream",
          "name": "stdout",
          "text": [
            "Elige pieda,papel o tijerastijeras\n",
            "Elige pieda,papel o tijeraspapel\n",
            "Elige pieda,papel o tijeraspiedra\n",
            "Elige pieda,papel o tijeraspiedra\n",
            "Elige pieda,papel o tijerastijeras\n",
            " ¿Qué vas a usar? 'piedra','papel','tijeras' piedra\n",
            "Es un Empate\n"
          ]
        }
      ]
    },
    {
      "cell_type": "code",
      "source": [
        "import random\n",
        "\n",
        "def play():\n",
        "  \"\"\"\n",
        "  This function plays a game of rock-paper-scissors against the computer.\n",
        "  \"\"\"\n",
        "  user = input(\"What's your choice? 'r' for rock, 'p' for paper, 's' for scissors\\n\")\n",
        "  computer = random.choice(['r', 'p', 's'])\n",
        "\n",
        "  if user == computer:\n",
        "    return \"It's a tie!\"\n",
        "\n",
        "  if is_win(user, computer):\n",
        "    return \"You won!\"\n",
        "\n",
        "  return \"You lost!\"\n",
        "\n",
        "def is_win(player, opponent):\n",
        "  \"\"\"\n",
        "  Returns True if player wins.\n",
        "  \"\"\"\n",
        "  # Using a dictionary for a more readable and maintainable win condition\n",
        "  win_conditions = {'r': 's', 's': 'p', 'p': 'r'}\n",
        "  return win_conditions[player] == opponent\n",
        "\n",
        "if __name__ == \"__main__\":\n",
        "  play()"
      ],
      "metadata": {
        "id": "kjzUkAmYHRYy"
      },
      "execution_count": null,
      "outputs": []
    },
    {
      "cell_type": "code",
      "source": [
        "numero=int(input(\"escriba un numero:\"))\n",
        "if not numero%2:\n",
        "  print(\"Es par\")\n",
        "else:\n",
        "  print(\"Es impar\")"
      ],
      "metadata": {
        "colab": {
          "base_uri": "https://localhost:8080/"
        },
        "id": "sOWlvcBT7GJt",
        "outputId": "2a2c66c5-da75-413c-97e6-ea7e1d28cde4"
      },
      "execution_count": null,
      "outputs": [
        {
          "output_type": "stream",
          "name": "stdout",
          "text": [
            "escriba un numero:2\n",
            "Es par\n"
          ]
        }
      ]
    },
    {
      "cell_type": "code",
      "source": [
        "#palabras que no puedo usar nunca como variables\n",
        "edad=17\n",
        "1+2*edad"
      ],
      "metadata": {
        "colab": {
          "base_uri": "https://localhost:8080/"
        },
        "id": "VNH13L7k9Hob",
        "outputId": "3ea71583-02a0-4bab-cb9a-fbfa8e125a0e"
      },
      "execution_count": null,
      "outputs": [
        {
          "output_type": "execute_result",
          "data": {
            "text/plain": [
              "35"
            ]
          },
          "metadata": {},
          "execution_count": 7
        }
      ]
    },
    {
      "cell_type": "code",
      "source": [
        "pi=3.14\n",
        "r=10\n",
        "Area=pi*r**2\n",
        "print(Area)"
      ],
      "metadata": {
        "colab": {
          "base_uri": "https://localhost:8080/"
        },
        "id": "dVKQHbhj9Maa",
        "outputId": "0975d8c1-1d7c-4166-ef87-659752293c0c"
      },
      "execution_count": null,
      "outputs": [
        {
          "output_type": "stream",
          "name": "stdout",
          "text": [
            "314.0\n"
          ]
        }
      ]
    },
    {
      "cell_type": "code",
      "source": [
        "\"Ja\"*4"
      ],
      "metadata": {
        "colab": {
          "base_uri": "https://localhost:8080/",
          "height": 35
        },
        "id": "qzZPvDx89Usr",
        "outputId": "7fafde4e-d10c-4543-db4b-9eae3c6fa347"
      },
      "execution_count": null,
      "outputs": [
        {
          "output_type": "execute_result",
          "data": {
            "text/plain": [
              "'JaJaJaJa'"
            ],
            "application/vnd.google.colaboratory.intrinsic+json": {
              "type": "string"
            }
          },
          "metadata": {},
          "execution_count": 8
        }
      ]
    },
    {
      "cell_type": "code",
      "source": [
        "Nombre=\"Miguel\"\n",
        "Apellido=\"Bermudez\"\n",
        "Nombre+\" \"+Apellido"
      ],
      "metadata": {
        "colab": {
          "base_uri": "https://localhost:8080/",
          "height": 35
        },
        "id": "DX0KJjc29YTq",
        "outputId": "5e3eab8d-bc57-41b2-f6de-ac0c53c531c3"
      },
      "execution_count": null,
      "outputs": [
        {
          "output_type": "execute_result",
          "data": {
            "text/plain": [
              "'Miguel Bermudez'"
            ],
            "application/vnd.google.colaboratory.intrinsic+json": {
              "type": "string"
            }
          },
          "metadata": {},
          "execution_count": 9
        }
      ]
    },
    {
      "cell_type": "code",
      "source": [
        "5%2"
      ],
      "metadata": {
        "colab": {
          "base_uri": "https://localhost:8080/"
        },
        "id": "lLYqfEQJ9dIb",
        "outputId": "e5055455-dec3-4be0-85d4-50e045857e54"
      },
      "execution_count": null,
      "outputs": [
        {
          "output_type": "execute_result",
          "data": {
            "text/plain": [
              "1"
            ]
          },
          "metadata": {},
          "execution_count": 10
        }
      ]
    },
    {
      "cell_type": "code",
      "source": [
        "5//2"
      ],
      "metadata": {
        "colab": {
          "base_uri": "https://localhost:8080/"
        },
        "id": "RHw8-FA_9eQj",
        "outputId": "96e48930-cc3d-487d-9561-751ca49f31ae"
      },
      "execution_count": null,
      "outputs": [
        {
          "output_type": "execute_result",
          "data": {
            "text/plain": [
              "2"
            ]
          },
          "metadata": {},
          "execution_count": 11
        }
      ]
    },
    {
      "cell_type": "code",
      "source": [
        "2**3"
      ],
      "metadata": {
        "colab": {
          "base_uri": "https://localhost:8080/"
        },
        "id": "wstMZLA-9naC",
        "outputId": "735aa785-93d8-4ca2-a949-430c814037db"
      },
      "execution_count": null,
      "outputs": [
        {
          "output_type": "execute_result",
          "data": {
            "text/plain": [
              "8"
            ]
          },
          "metadata": {},
          "execution_count": 12
        }
      ]
    },
    {
      "cell_type": "code",
      "source": [
        "edad=17\n",
        "promedio=20\n",
        "edad!=promedio"
      ],
      "metadata": {
        "colab": {
          "base_uri": "https://localhost:8080/"
        },
        "id": "c_SKx0r69rd6",
        "outputId": "162ea439-8c36-49f5-f219-531dae8a6863"
      },
      "execution_count": null,
      "outputs": [
        {
          "output_type": "execute_result",
          "data": {
            "text/plain": [
              "True"
            ]
          },
          "metadata": {},
          "execution_count": 13
        }
      ]
    },
    {
      "cell_type": "code",
      "source": [
        "edad=17\n",
        "promedio=20\n",
        "edad==promedio"
      ],
      "metadata": {
        "colab": {
          "base_uri": "https://localhost:8080/"
        },
        "id": "E48xb2Qn9vdz",
        "outputId": "8b51cf58-9ec5-468c-c90d-ca7b746767ac"
      },
      "execution_count": null,
      "outputs": [
        {
          "output_type": "execute_result",
          "data": {
            "text/plain": [
              "False"
            ]
          },
          "metadata": {},
          "execution_count": 14
        }
      ]
    },
    {
      "cell_type": "code",
      "source": [
        "type(5.0)"
      ],
      "metadata": {
        "colab": {
          "base_uri": "https://localhost:8080/"
        },
        "id": "CHWpLr2k9yga",
        "outputId": "f079461e-f354-492f-9b7b-eab2941c7a4e"
      },
      "execution_count": null,
      "outputs": [
        {
          "output_type": "execute_result",
          "data": {
            "text/plain": [
              "float"
            ]
          },
          "metadata": {},
          "execution_count": 15
        }
      ]
    },
    {
      "cell_type": "code",
      "source": [
        "type(17)"
      ],
      "metadata": {
        "colab": {
          "base_uri": "https://localhost:8080/"
        },
        "id": "ueDgE8hh9197",
        "outputId": "e24e1353-3839-4f7c-9118-3ac7f031b76e"
      },
      "execution_count": null,
      "outputs": [
        {
          "output_type": "execute_result",
          "data": {
            "text/plain": [
              "int"
            ]
          },
          "metadata": {},
          "execution_count": 16
        }
      ]
    },
    {
      "cell_type": "code",
      "source": [
        "type(3.1416)"
      ],
      "metadata": {
        "colab": {
          "base_uri": "https://localhost:8080/"
        },
        "id": "3yodhQ_RO-aW",
        "outputId": "23819120-ca1f-4620-b0cb-144a0ec0991e"
      },
      "execution_count": 1,
      "outputs": [
        {
          "output_type": "execute_result",
          "data": {
            "text/plain": [
              "float"
            ]
          },
          "metadata": {},
          "execution_count": 1
        }
      ]
    },
    {
      "cell_type": "code",
      "source": [
        "from os import name\n",
        "type(name)"
      ],
      "metadata": {
        "colab": {
          "base_uri": "https://localhost:8080/"
        },
        "id": "uM3rb-K3SZ7L",
        "outputId": "427de5ce-0aaf-45d8-d9cc-af58d8851ade"
      },
      "execution_count": 5,
      "outputs": [
        {
          "output_type": "execute_result",
          "data": {
            "text/plain": [
              "str"
            ]
          },
          "metadata": {},
          "execution_count": 5
        }
      ]
    },
    {
      "cell_type": "code",
      "source": [
        "type(False)"
      ],
      "metadata": {
        "colab": {
          "base_uri": "https://localhost:8080/"
        },
        "id": "Gdk_ab5jPosS",
        "outputId": "94f2aa6a-2472-4839-ed2a-dc6f0ca2d47c"
      },
      "execution_count": 2,
      "outputs": [
        {
          "output_type": "execute_result",
          "data": {
            "text/plain": [
              "bool"
            ]
          },
          "metadata": {},
          "execution_count": 2
        }
      ]
    }
  ]
}